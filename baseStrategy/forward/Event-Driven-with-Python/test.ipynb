{
 "metadata": {
  "language_info": {
   "codemirror_mode": {
    "name": "ipython",
    "version": 3
   },
   "file_extension": ".py",
   "mimetype": "text/x-python",
   "name": "python",
   "nbconvert_exporter": "python",
   "pygments_lexer": "ipython3",
   "version": "3.8.5-final"
  },
  "orig_nbformat": 2,
  "kernelspec": {
   "name": "python_defaultSpec_1600422525508",
   "display_name": "Python 3.8.5 64-bit"
  }
 },
 "nbformat": 4,
 "nbformat_minor": 2,
 "cells": [
  {
   "cell_type": "code",
   "execution_count": 1,
   "metadata": {},
   "outputs": [],
   "source": [
    "from backtester import main"
   ]
  },
  {
   "cell_type": "code",
   "execution_count": 2,
   "metadata": {
    "tags": []
   },
   "outputs": [
    {
     "output_type": "stream",
     "name": "stdout",
     "text": "[('Total Return', '0.00%'), ('Sharpe Ratio', '0.00'), ('Max Drawdown', '0.01%'), ('Drawdown Duration', '120')]\n"
    }
   ],
   "source": [
    "port = main(\"data\", \"ap\", \"2020-07-01 09:00:00\")"
   ]
  },
  {
   "cell_type": "code",
   "execution_count": 3,
   "metadata": {},
   "outputs": [
    {
     "output_type": "execute_result",
     "data": {
      "text/plain": "                         ap       cash  commission      total       returns  \\\ndatetime                                                                      \n2020-07-01 09:00:00     0.0  1000000.0         0.0  1000000.0           NaN   \n2020-07-01 09:00:00     0.0  1000000.0         0.0  1000000.0  0.000000e+00   \n2020-07-01 09:01:00  7969.0   992015.0         0.0   999984.0 -1.600000e-05   \n2020-07-01 09:02:00  7986.0   992015.0         0.0  1000001.0  1.700027e-05   \n2020-07-01 09:03:00  7982.0   992015.0         0.0   999997.0 -3.999996e-06   \n...                     ...        ...         ...        ...           ...   \n2020-07-01 11:27:00  7995.0   992015.0         0.0  1000010.0  9.999910e-07   \n2020-07-01 11:28:00  7984.0   992015.0         0.0   999999.0 -1.099989e-05   \n2020-07-01 11:29:00  7985.0   992015.0         0.0  1000000.0  1.000001e-06   \n2020-07-01 11:30:00  7985.0   992015.0         0.0  1000000.0  0.000000e+00   \n2020-07-01 11:30:00  7985.0   992015.0         0.0  1000000.0  0.000000e+00   \n\n                     equity_curve  \ndatetime                           \n2020-07-01 09:00:00           NaN  \n2020-07-01 09:00:00      1.000000  \n2020-07-01 09:01:00      0.999984  \n2020-07-01 09:02:00      1.000001  \n2020-07-01 09:03:00      0.999997  \n...                           ...  \n2020-07-01 11:27:00      1.000010  \n2020-07-01 11:28:00      0.999999  \n2020-07-01 11:29:00      1.000000  \n2020-07-01 11:30:00      1.000000  \n2020-07-01 11:30:00      1.000000  \n\n[139 rows x 6 columns]",
      "text/html": "<div>\n<style scoped>\n    .dataframe tbody tr th:only-of-type {\n        vertical-align: middle;\n    }\n\n    .dataframe tbody tr th {\n        vertical-align: top;\n    }\n\n    .dataframe thead th {\n        text-align: right;\n    }\n</style>\n<table border=\"1\" class=\"dataframe\">\n  <thead>\n    <tr style=\"text-align: right;\">\n      <th></th>\n      <th>ap</th>\n      <th>cash</th>\n      <th>commission</th>\n      <th>total</th>\n      <th>returns</th>\n      <th>equity_curve</th>\n    </tr>\n    <tr>\n      <th>datetime</th>\n      <th></th>\n      <th></th>\n      <th></th>\n      <th></th>\n      <th></th>\n      <th></th>\n    </tr>\n  </thead>\n  <tbody>\n    <tr>\n      <th>2020-07-01 09:00:00</th>\n      <td>0.0</td>\n      <td>1000000.0</td>\n      <td>0.0</td>\n      <td>1000000.0</td>\n      <td>NaN</td>\n      <td>NaN</td>\n    </tr>\n    <tr>\n      <th>2020-07-01 09:00:00</th>\n      <td>0.0</td>\n      <td>1000000.0</td>\n      <td>0.0</td>\n      <td>1000000.0</td>\n      <td>0.000000e+00</td>\n      <td>1.000000</td>\n    </tr>\n    <tr>\n      <th>2020-07-01 09:01:00</th>\n      <td>7969.0</td>\n      <td>992015.0</td>\n      <td>0.0</td>\n      <td>999984.0</td>\n      <td>-1.600000e-05</td>\n      <td>0.999984</td>\n    </tr>\n    <tr>\n      <th>2020-07-01 09:02:00</th>\n      <td>7986.0</td>\n      <td>992015.0</td>\n      <td>0.0</td>\n      <td>1000001.0</td>\n      <td>1.700027e-05</td>\n      <td>1.000001</td>\n    </tr>\n    <tr>\n      <th>2020-07-01 09:03:00</th>\n      <td>7982.0</td>\n      <td>992015.0</td>\n      <td>0.0</td>\n      <td>999997.0</td>\n      <td>-3.999996e-06</td>\n      <td>0.999997</td>\n    </tr>\n    <tr>\n      <th>...</th>\n      <td>...</td>\n      <td>...</td>\n      <td>...</td>\n      <td>...</td>\n      <td>...</td>\n      <td>...</td>\n    </tr>\n    <tr>\n      <th>2020-07-01 11:27:00</th>\n      <td>7995.0</td>\n      <td>992015.0</td>\n      <td>0.0</td>\n      <td>1000010.0</td>\n      <td>9.999910e-07</td>\n      <td>1.000010</td>\n    </tr>\n    <tr>\n      <th>2020-07-01 11:28:00</th>\n      <td>7984.0</td>\n      <td>992015.0</td>\n      <td>0.0</td>\n      <td>999999.0</td>\n      <td>-1.099989e-05</td>\n      <td>0.999999</td>\n    </tr>\n    <tr>\n      <th>2020-07-01 11:29:00</th>\n      <td>7985.0</td>\n      <td>992015.0</td>\n      <td>0.0</td>\n      <td>1000000.0</td>\n      <td>1.000001e-06</td>\n      <td>1.000000</td>\n    </tr>\n    <tr>\n      <th>2020-07-01 11:30:00</th>\n      <td>7985.0</td>\n      <td>992015.0</td>\n      <td>0.0</td>\n      <td>1000000.0</td>\n      <td>0.000000e+00</td>\n      <td>1.000000</td>\n    </tr>\n    <tr>\n      <th>2020-07-01 11:30:00</th>\n      <td>7985.0</td>\n      <td>992015.0</td>\n      <td>0.0</td>\n      <td>1000000.0</td>\n      <td>0.000000e+00</td>\n      <td>1.000000</td>\n    </tr>\n  </tbody>\n</table>\n<p>139 rows × 6 columns</p>\n</div>"
     },
     "metadata": {},
     "execution_count": 3
    }
   ],
   "source": [
    "port.equity_curve"
   ]
  },
  {
   "cell_type": "code",
   "execution_count": null,
   "metadata": {},
   "outputs": [],
   "source": []
  }
 ]
}