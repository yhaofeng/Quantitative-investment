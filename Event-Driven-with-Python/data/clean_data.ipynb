{
 "metadata": {
  "language_info": {
   "codemirror_mode": {
    "name": "ipython",
    "version": 3
   },
   "file_extension": ".py",
   "mimetype": "text/x-python",
   "name": "python",
   "nbconvert_exporter": "python",
   "pygments_lexer": "ipython3",
   "version": "3.8.5-final"
  },
  "orig_nbformat": 2,
  "kernelspec": {
   "name": "python_defaultSpec_1600419939064",
   "display_name": "Python 3.8.5 64-bit"
  }
 },
 "nbformat": 4,
 "nbformat_minor": 2,
 "cells": [
  {
   "cell_type": "code",
   "execution_count": 20,
   "metadata": {},
   "outputs": [],
   "source": [
    "import pandas as pd\n",
    "import matplotlib.pyplot as plt\n",
    "%matplotlib inline"
   ]
  },
  {
   "cell_type": "code",
   "execution_count": 2,
   "metadata": {},
   "outputs": [],
   "source": [
    "df = pd.read_csv(\"ap_mins.csv\")"
   ]
  },
  {
   "cell_type": "code",
   "execution_count": 3,
   "metadata": {},
   "outputs": [
    {
     "output_type": "execute_result",
     "data": {
      "text/plain": "Index(['UpdateTime', 'Open', 'High', 'Low', 'Close', 'Volume', 'Turnover',\n       'open_bid_price1', 'close_bid_price1', 'open_ask_price1',\n       'close_ask_price1'],\n      dtype='object')"
     },
     "metadata": {},
     "execution_count": 3
    }
   ],
   "source": [
    "df.columns"
   ]
  },
  {
   "cell_type": "code",
   "execution_count": 4,
   "metadata": {},
   "outputs": [],
   "source": [
    "old_columns = ['UpdateTime', 'Open', 'Low', 'High', 'Close', 'Volume']\n",
    "new_columns = ['datetime','open','low','high','close','volume']"
   ]
  },
  {
   "cell_type": "code",
   "execution_count": 14,
   "metadata": {},
   "outputs": [],
   "source": [
    "df_new = df[old_columns].copy()"
   ]
  },
  {
   "cell_type": "code",
   "execution_count": 16,
   "metadata": {},
   "outputs": [],
   "source": [
    "df_new.columns = new_columns"
   ]
  },
  {
   "cell_type": "code",
   "execution_count": 17,
   "metadata": {},
   "outputs": [
    {
     "output_type": "execute_result",
     "data": {
      "text/plain": "              datetime    open     low    high   close  volume\n0  2020-07-01 09:00:00  7944.0  7944.0  7986.0  7985.0  3700.0\n1  2020-07-01 09:01:00  7984.0  7969.0  7988.0  7969.0  2196.0\n2  2020-07-01 09:02:00  7969.0  7969.0  7986.0  7986.0  1349.0\n3  2020-07-01 09:03:00  7986.0  7980.0  7993.0  7982.0  1733.0\n4  2020-07-01 09:04:00  7982.0  7973.0  7989.0  7974.0  1082.0",
      "text/html": "<div>\n<style scoped>\n    .dataframe tbody tr th:only-of-type {\n        vertical-align: middle;\n    }\n\n    .dataframe tbody tr th {\n        vertical-align: top;\n    }\n\n    .dataframe thead th {\n        text-align: right;\n    }\n</style>\n<table border=\"1\" class=\"dataframe\">\n  <thead>\n    <tr style=\"text-align: right;\">\n      <th></th>\n      <th>datetime</th>\n      <th>open</th>\n      <th>low</th>\n      <th>high</th>\n      <th>close</th>\n      <th>volume</th>\n    </tr>\n  </thead>\n  <tbody>\n    <tr>\n      <th>0</th>\n      <td>2020-07-01 09:00:00</td>\n      <td>7944.0</td>\n      <td>7944.0</td>\n      <td>7986.0</td>\n      <td>7985.0</td>\n      <td>3700.0</td>\n    </tr>\n    <tr>\n      <th>1</th>\n      <td>2020-07-01 09:01:00</td>\n      <td>7984.0</td>\n      <td>7969.0</td>\n      <td>7988.0</td>\n      <td>7969.0</td>\n      <td>2196.0</td>\n    </tr>\n    <tr>\n      <th>2</th>\n      <td>2020-07-01 09:02:00</td>\n      <td>7969.0</td>\n      <td>7969.0</td>\n      <td>7986.0</td>\n      <td>7986.0</td>\n      <td>1349.0</td>\n    </tr>\n    <tr>\n      <th>3</th>\n      <td>2020-07-01 09:03:00</td>\n      <td>7986.0</td>\n      <td>7980.0</td>\n      <td>7993.0</td>\n      <td>7982.0</td>\n      <td>1733.0</td>\n    </tr>\n    <tr>\n      <th>4</th>\n      <td>2020-07-01 09:04:00</td>\n      <td>7982.0</td>\n      <td>7973.0</td>\n      <td>7989.0</td>\n      <td>7974.0</td>\n      <td>1082.0</td>\n    </tr>\n  </tbody>\n</table>\n</div>"
     },
     "metadata": {},
     "execution_count": 17
    }
   ],
   "source": [
    "df_new.head()"
   ]
  },
  {
   "cell_type": "code",
   "execution_count": 24,
   "metadata": {},
   "outputs": [],
   "source": [
    "df_new.to_csv('ap.csv', index=None)"
   ]
  },
  {
   "cell_type": "code",
   "execution_count": null,
   "metadata": {},
   "outputs": [],
   "source": []
  }
 ]
}